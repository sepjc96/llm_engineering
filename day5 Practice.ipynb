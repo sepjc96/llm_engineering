{
 "cells": [
  {
   "cell_type": "code",
   "execution_count": 1,
   "id": "e07a3369-4759-41fd-9bc8-9f69bf095c52",
   "metadata": {},
   "outputs": [],
   "source": [
    "# imports\n",
    "# If these fail, please check you're running from an 'activated' environment with (llms) in the command prompt\n",
    "\n",
    "import os\n",
    "import requests\n",
    "import json\n",
    "from typing import List\n",
    "from dotenv import load_dotenv\n",
    "from bs4 import BeautifulSoup\n",
    "from IPython.display import Markdown, display, update_display\n",
    "from openai import OpenAI"
   ]
  },
  {
   "cell_type": "code",
   "execution_count": 24,
   "id": "e2f3a6db-0137-49c7-81ec-ea1e604a270f",
   "metadata": {
    "scrolled": true
   },
   "outputs": [],
   "source": [
    "from openai import OpenAI\n",
    "openai = OpenAI(base_url='http://localhost:11434/v1', api_key='ollama')\n",
    "model=\"llama3.2\"\n",
    "# model=\"deepseek-r1:1.5b\"\n",
    "\n",
    "# response = ollama_via_openai.chat.completions.create(\n",
    "#     model=\"deepseek-r1:1.5b\",\n",
    "#     messages=[{\"role\": \"user\", \"content\": \"Please give definitions of some core concepts behind LLMs: a neural network, attention and the transformer\"}]\n",
    "# )\n",
    "\n",
    "# print(response.choices[0].message.content)"
   ]
  },
  {
   "cell_type": "code",
   "execution_count": 25,
   "id": "b2d5aff8-19cf-4664-8cca-dd8890027dae",
   "metadata": {},
   "outputs": [
    {
     "name": "stderr",
     "output_type": "stream",
     "text": [
      "\u001b[?2026h\u001b[?25l\u001b[1Gpulling manifest â ‹ \u001b[K\u001b[?25h\u001b[?2026l\u001b[?2026h\u001b[?25l\u001b[1Gpulling manifest â ™ \u001b[K\u001b[?25h\u001b[?2026l\u001b[?2026h\u001b[?25l\u001b[1Gpulling manifest â ¹ \u001b[K\u001b[?25h\u001b[?2026l\u001b[?2026h\u001b[?25l\u001b[1Gpulling manifest â ¸ \u001b[K\u001b[?25h\u001b[?2026l\u001b[?2026h\u001b[?25l\u001b[1Gpulling manifest â ¼ \u001b[K\u001b[?25h\u001b[?2026l\u001b[?2026h\u001b[?25l\u001b[1Gpulling manifest â ´ \u001b[K\u001b[?25h\u001b[?2026l\u001b[?2026h\u001b[?25l\u001b[1Gpulling manifest â ¦ \u001b[K\u001b[?25h\u001b[?2026l\u001b[?2026h\u001b[?25l\u001b[1Gpulling manifest â § \u001b[K\u001b[?25h\u001b[?2026l\u001b[?2026h\u001b[?25l\u001b[1Gpulling manifest â ‡ \u001b[K\u001b[?25h\u001b[?2026l\u001b[?2026h\u001b[?25l\u001b[1Gpulling manifest â � \u001b[K\u001b[?25h\u001b[?2026l\u001b[?2026h\u001b[?25l\u001b[1Gpulling manifest â ‹ \u001b[K\u001b[?25h\u001b[?2026l\u001b[?2026h\u001b[?25l\u001b[1Gpulling manifest \u001b[K\n",
      "pulling aabd4debf0c8: 100% â–•â–ˆâ–ˆâ–ˆâ–ˆâ–ˆâ–ˆâ–ˆâ–ˆâ–ˆâ–ˆâ–ˆâ–ˆâ–ˆâ–ˆâ–ˆâ–ˆâ–ˆâ–ˆâ–� 1.1 GB                         \u001b[K\n",
      "pulling c5ad996bda6e: 100% â–•â–ˆâ–ˆâ–ˆâ–ˆâ–ˆâ–ˆâ–ˆâ–ˆâ–ˆâ–ˆâ–ˆâ–ˆâ–ˆâ–ˆâ–ˆâ–ˆâ–ˆâ–ˆâ–�  556 B                         \u001b[K\n",
      "pulling 6e4c38e1172f: 100% â–•â–ˆâ–ˆâ–ˆâ–ˆâ–ˆâ–ˆâ–ˆâ–ˆâ–ˆâ–ˆâ–ˆâ–ˆâ–ˆâ–ˆâ–ˆâ–ˆâ–ˆâ–ˆâ–� 1.1 KB                         \u001b[K\n",
      "pulling f4d24e9138dd: 100% â–•â–ˆâ–ˆâ–ˆâ–ˆâ–ˆâ–ˆâ–ˆâ–ˆâ–ˆâ–ˆâ–ˆâ–ˆâ–ˆâ–ˆâ–ˆâ–ˆâ–ˆâ–ˆâ–�  148 B                         \u001b[K\n",
      "pulling a85fe2a2e58e: 100% â–•â–ˆâ–ˆâ–ˆâ–ˆâ–ˆâ–ˆâ–ˆâ–ˆâ–ˆâ–ˆâ–ˆâ–ˆâ–ˆâ–ˆâ–ˆâ–ˆâ–ˆâ–ˆâ–�  487 B                         \u001b[K\n",
      "verifying sha256 digest \u001b[K\n",
      "writing manifest \u001b[K\n",
      "success \u001b[K\u001b[?25h\u001b[?2026l\n",
      "\u001b[?2026h\u001b[?25l\u001b[1Gpulling manifest â ‹ \u001b[K\u001b[?25h\u001b[?2026l\u001b[?2026h\u001b[?25l\u001b[1Gpulling manifest â ™ \u001b[K\u001b[?25h\u001b[?2026l\u001b[?2026h\u001b[?25l\u001b[1Gpulling manifest â ¹ \u001b[K\u001b[?25h\u001b[?2026l\u001b[?2026h\u001b[?25l\u001b[1Gpulling manifest â ¸ \u001b[K\u001b[?25h\u001b[?2026l\u001b[?2026h\u001b[?25l\u001b[1Gpulling manifest â ¼ \u001b[K\u001b[?25h\u001b[?2026l\u001b[?2026h\u001b[?25l\u001b[1Gpulling manifest â ´ \u001b[K\u001b[?25h\u001b[?2026l\u001b[?2026h\u001b[?25l\u001b[1Gpulling manifest â ¦ \u001b[K\u001b[?25h\u001b[?2026l\u001b[?2026h\u001b[?25l\u001b[1Gpulling manifest â § \u001b[K\u001b[?25h\u001b[?2026l\u001b[?2026h\u001b[?25l\u001b[1Gpulling manifest â ‡ \u001b[K\u001b[?25h\u001b[?2026l\u001b[?2026h\u001b[?25l\u001b[1Gpulling manifest \u001b[K\n",
      "pulling dde5aa3fc5ff: 100% â–•â–ˆâ–ˆâ–ˆâ–ˆâ–ˆâ–ˆâ–ˆâ–ˆâ–ˆâ–ˆâ–ˆâ–ˆâ–ˆâ–ˆâ–ˆâ–ˆâ–ˆâ–ˆâ–� 2.0 GB                         \u001b[K\n",
      "pulling 966de95ca8a6: 100% â–•â–ˆâ–ˆâ–ˆâ–ˆâ–ˆâ–ˆâ–ˆâ–ˆâ–ˆâ–ˆâ–ˆâ–ˆâ–ˆâ–ˆâ–ˆâ–ˆâ–ˆâ–ˆâ–� 1.4 KB                         \u001b[K\n",
      "pulling fcc5a6bec9da: 100% â–•â–ˆâ–ˆâ–ˆâ–ˆâ–ˆâ–ˆâ–ˆâ–ˆâ–ˆâ–ˆâ–ˆâ–ˆâ–ˆâ–ˆâ–ˆâ–ˆâ–ˆâ–ˆâ–� 7.7 KB                         \u001b[K\n",
      "pulling a70ff7e570d9: 100% â–•â–ˆâ–ˆâ–ˆâ–ˆâ–ˆâ–ˆâ–ˆâ–ˆâ–ˆâ–ˆâ–ˆâ–ˆâ–ˆâ–ˆâ–ˆâ–ˆâ–ˆâ–ˆâ–� 6.0 KB                         \u001b[K\n",
      "pulling 56bb8bd477a5: 100% â–•â–ˆâ–ˆâ–ˆâ–ˆâ–ˆâ–ˆâ–ˆâ–ˆâ–ˆâ–ˆâ–ˆâ–ˆâ–ˆâ–ˆâ–ˆâ–ˆâ–ˆâ–ˆâ–�   96 B                         \u001b[K\n",
      "pulling 34bb5ab01051: 100% â–•â–ˆâ–ˆâ–ˆâ–ˆâ–ˆâ–ˆâ–ˆâ–ˆâ–ˆâ–ˆâ–ˆâ–ˆâ–ˆâ–ˆâ–ˆâ–ˆâ–ˆâ–ˆâ–�  561 B                         \u001b[K\n",
      "verifying sha256 digest \u001b[K\n",
      "writing manifest \u001b[K\n",
      "success \u001b[K\u001b[?25h\u001b[?2026l\n"
     ]
    }
   ],
   "source": [
    "!ollama pull deepseek-r1:1.5b\n",
    "!ollama pull llama3.2"
   ]
  },
  {
   "cell_type": "code",
   "execution_count": 26,
   "id": "5cd521ca-8216-4825-824f-348162a3add8",
   "metadata": {},
   "outputs": [],
   "source": [
    "# A class to represent a Webpage\n",
    "\n",
    "# Some websites need you to use proper headers when fetching them:\n",
    "headers = {\n",
    " \"User-Agent\": \"Mozilla/5.0 (Windows NT 10.0; Win64; x64) AppleWebKit/537.36 (KHTML, like Gecko) Chrome/117.0.0.0 Safari/537.36\"\n",
    "}\n",
    "\n",
    "class Website:\n",
    "    \"\"\"\n",
    "    A utility class to represent a Website that we have scraped, now with links\n",
    "    \"\"\"\n",
    "\n",
    "    def __init__(self, url):\n",
    "        self.url = url\n",
    "        response = requests.get(url, headers=headers)\n",
    "        self.body = response.content\n",
    "        soup = BeautifulSoup(self.body, 'html.parser')\n",
    "        self.title = soup.title.string if soup.title else \"No title found\"\n",
    "        if soup.body:\n",
    "            for irrelevant in soup.body([\"script\", \"style\", \"img\", \"input\"]):\n",
    "                irrelevant.decompose()\n",
    "            self.text = soup.body.get_text(separator=\"\\n\", strip=True)\n",
    "        else:\n",
    "            self.text = \"\"\n",
    "        links = [link.get('href') for link in soup.find_all('a')]\n",
    "        self.links = [link for link in links if link]\n",
    "\n",
    "    def get_contents(self):\n",
    "        return f\"Webpage Title:\\n{self.title}\\nWebpage Contents:\\n{self.text}\\n\\n\""
   ]
  },
  {
   "cell_type": "code",
   "execution_count": 27,
   "id": "b526a65c-69d5-4e75-a365-325b6610ebd4",
   "metadata": {
    "scrolled": true
   },
   "outputs": [],
   "source": [
    "ed = Website(\"https://edwarddonner.com\")\n",
    "# ed.links"
   ]
  },
  {
   "cell_type": "code",
   "execution_count": 28,
   "id": "d84eeb6f-b88f-4e98-a334-5874e6f6c4f2",
   "metadata": {},
   "outputs": [],
   "source": [
    "link_system_prompt = \"You are provided with a list of links found on a webpage. \\\n",
    "You are able to decide which of the links would be most relevant to include in a brochure about the company, \\\n",
    "such as links to an About page, or a Company page, or Careers/Jobs pages.\\n\"\n",
    "link_system_prompt += \"You should respond in JSON as in this example:\"\n",
    "link_system_prompt += \"\"\"\n",
    "{\n",
    "    \"links\": [\n",
    "        {\"type\": \"about page\", \"url\": \"https://full.url/goes/here/about\"},\n",
    "        {\"type\": \"careers page\": \"url\": \"https://another.full.url/careers\"}\n",
    "    ]\n",
    "}\n",
    "\"\"\"\n",
    "# print(link_system_prompt)"
   ]
  },
  {
   "cell_type": "code",
   "execution_count": 29,
   "id": "9d949456-2c4e-478c-b426-233468244acb",
   "metadata": {},
   "outputs": [],
   "source": [
    "def get_links_user_prompt(website):\n",
    "    user_prompt = f\"Here is the list of links on the website of {website.url} - \"\n",
    "    user_prompt += \"please decide which of these are relevant web links for a brochure about the company, respond with the full https URL in JSON format. Do not include Terms of Service, Privacy, email links.\\n\"\n",
    "    user_prompt += \"Links (some might be relative links):\\n\"\n",
    "    user_prompt += \"\\n\".join(website.links)\n",
    "    return user_prompt"
   ]
  },
  {
   "cell_type": "code",
   "execution_count": 30,
   "id": "ab0c7f7d-22c4-464d-b91a-73cb1af69ccb",
   "metadata": {},
   "outputs": [],
   "source": [
    "# print(get_links_user_prompt(ed))"
   ]
  },
  {
   "cell_type": "code",
   "execution_count": 31,
   "id": "d5b2cd12-e5ad-4a8d-889b-e3320ee04272",
   "metadata": {},
   "outputs": [],
   "source": [
    "def get_links(url):\n",
    "    website = Website(url)\n",
    "    response = openai.chat.completions.create(\n",
    "        model=model,\n",
    "        messages=[\n",
    "            {\"role\": \"system\", \"content\": link_system_prompt},\n",
    "            {\"role\": \"user\", \"content\": get_links_user_prompt(website)}\n",
    "      ],\n",
    "        response_format={\"type\": \"json_object\"}\n",
    "    )\n",
    "    result = response.choices[0].message.content\n",
    "    return json.loads(result)"
   ]
  },
  {
   "cell_type": "code",
   "execution_count": 35,
   "id": "69ea0ed9-8422-434f-9418-df6174b6fe8a",
   "metadata": {
    "scrolled": true
   },
   "outputs": [
    {
     "data": {
      "text/plain": [
       "'Webpage Title:\\nHome \\\\ Anthropic\\nWebpage Contents:\\nSkip to main content\\nSkip to footer\\nClaude\\nChat with Claude\\nOverview\\nTeam plan\\nEnterprise plan\\nEducation plan\\nExplore pricing\\nDownload apps\\nClaude log in\\nNews\\nClaude’s character\\nAPI\\nBuild with Claude\\nAPI\\xa0overview\\nDeveloper docs\\nExplore pricing\\nConsole log in\\nNews\\nLearn how to build with Claude\\nSolutions\\nCollaborate with Claude\\nAI\\xa0agents\\nCoding\\nCustomer support\\nCase studies\\nHear from our customers\\nResearch\\nResearch\\nOverview\\nEconomic Index\\nClaude model family\\nClaude Opus 4\\nClaude Sonnet 4\\nClaude Haiku 3.5\\nResearch\\nClaude’s extended thinking\\nCommitments\\nInitiatives\\nTransparency\\nResponsible scaling policy\\nTrust center\\nSecurity and compliance\\nAnnouncement\\nISO\\xa042001 certification\\nLearn\\nLearning resources\\nCustomer stories\\nEngineering at Anthropic\\nAnthropic Academy\\nCompany\\nAbout\\nCareers\\nEvents\\nEngineering\\nBuilding effective agents\\nNews\\nEN\\nThis is some text inside of a div block.\\nTry Claude\\nTry Claude\\nTry Claude\\nDownload App\\nDownload App\\nDownload App\\nClaude\\nChat with Claude\\nOverview\\nTeam plan\\nEnterprise plan\\nEducation plan\\nExplore pricing\\nDownload apps\\nClaude log in\\nNews\\nClaude’s character\\nAPI\\nBuild with Claude\\nAPI\\xa0overview\\nDeveloper docs\\nExplore pricing\\nConsole log in\\nNews\\nLearn how to build with Claude\\nSolutions\\nCollaborate with Claude\\nAI\\xa0agents\\nCoding\\nCustomer support\\nCase studies\\nHear from our customers\\nResearch\\nResearch\\nOverview\\nEconomic Index\\nClaude model family\\nClaude Opus 4\\nClaude Sonnet 4\\nClaude Haiku 3.5\\nResearch\\nClaude’s extended thinking\\nCommitments\\nInitiatives\\nTransparency\\nResponsible scaling policy\\nTrust center\\nSecurity and compliance\\nAnnouncement\\nISO\\xa042001 certification\\nLearn\\nLearning resources\\nCustomer stories\\nEngineering at Anthropic\\nAnthropic Academy\\nCompany\\nAbout\\nCareers\\nEvents\\nEngineering\\nBuilding effective agents\\nNews\\nEN\\nThis is some text inside of a div block.\\nTry Claude\\nTry Claude\\nTry Claude\\nDownload App\\nDownload App\\nDownload App\\nAI\\nresearch\\nand\\nproducts\\nthat put safety at the frontier\\nClaude.ai\\nMeet Claude Opus 4\\nClaude Opus 4, our most intelligent AI model, is now available.\\nTalk to Claude\\nTalk to Claude\\nTalk to Claude\\nAPI\\nBuild with Claude\\nCreate AI-powered applications and custom experiences using Claude.\\nLearn more\\nLearn more\\nLearn more\\nClaude Opus 4 and Sonnet 4\\nOur most powerful models yet, pushing the frontier for coding and AI agents—and enabling Claude to handle hours of work across Claude and Claude Code.\\nRead announcement\\nRead announcement\\nRead announcement\\nModel details\\nOpus 4\\nLearn more Claude Opus 4\\nLearn more Claude Opus 4\\nModel details\\nSonnet 4\\nLearn more about Sonnet 4\\nLearn more about Sonnet 4\\n“\\nIf knowledge is power and we’re building machines that have more knowledge than us, what will happen between us and the machines?\\nDeep Ganguli\\nResearch Lead, Societal Impacts\\nAt Anthropic, we build AI to serve humanity’s long-term well-being.\\n\\u200d\\nWhile no one can foresee every outcome AI will have on society, we do know that designing powerful technologies requires both bold steps forward and intentional pauses to consider the effects.\\nThat’s why we focus on building tools with human benefit at their foundation, like Claude. Through our daily research, policy work, and product design, we aim to show what responsible AI development looks like in practice.\\nCore Views on AI Safety\\nLearn more\\nLearn more\\nAnthropic’s Responsible Scaling Policy\\nLearn more\\nLearn more\\nAnthropic Academy: Learn to build with Claude\\nLearn more\\nLearn more\\nFeatured\\nTracing the thoughts of a large language model\\nInterpretability\\nMar 27, 2025\\nAnthropic Economic Index\\nSocietal impacts\\nMar 27, 2025\\nClaude 3.7 Sonnet and Claude Code\\nProduct\\nFeb 24, 2025\\nClaude’s extended thinking\\nProduct\\nFeb 24, 2025\\nAlignment faking in large language models\\nAlignment science\\nDec 18, 2024\\nIntroducing the Model Context Protocol\\nProduct\\nNov 25, 2024\\nWant to help us build the future of safe AI?\\nSee open roles\\nSee open roles\\nSee open roles\\nSpeak with sales\\nSpeak with sales\\nSpeak with sales\\nFooter\\nProduct\\nClaude overview\\nClaude Code\\nClaude team plan\\nClaude enterprise plan\\nClaude education plan\\nDownload Claude apps\\nClaude.ai pricing plans\\nClaude.ai login\\nAPI\\xa0Platform\\nAPI\\xa0overview\\nDeveloper docs\\nClaude in Amazon Bedrock\\nClaude on Google Cloud’s Vertex AI\\nPricing\\nConsole login\\nResearch\\nResearch overview\\nEconomic Index\\nClaude models\\nClaude Opus 4\\nClaude Sonnet 4\\nClaude Haiku 3.5\\nCommitments\\nTransparency\\nResponsible scaling policy\\nSecurity and compliance\\nSolutions\\nAI\\xa0agents\\nCoding\\nCustomer support\\nLearn\\nAnthropic Academy\\nCustomer stories\\nEngineering at Anthropic\\nExplore\\nAbout us\\nBecome a partner\\nCareers\\nEvents\\nNews\\nStartups program\\nHelp and security\\nStatus\\nAvailability\\nSupport center\\nTerms and policies\\nPrivacy choices\\nCookie Settings\\nWe use cookies to deliver and improve our services, analyze site usage, and if you agree, to customize or personalize your experience and market our services to you. You can read our Cookie Policy\\nhere\\n.\\nCustomize\\ncookie settings\\nReject\\nall cookies\\nAccept\\nall cookies\\nNecessary\\nEnables security and basic functionality.\\nRequired\\nAnalytics\\nEnables tracking of site performance.\\nOff\\nMarketing\\nEnables ads personalization and tracking.\\nOff\\nSave preferences\\nPrivacy policy\\nResponsible disclosure policy\\nTerms of service - consumer\\nTerms of service - commercial\\nUsage policy\\n©\\n2024\\nAnthropic PBC\\n\\n'"
      ]
     },
     "execution_count": 35,
     "metadata": {},
     "output_type": "execute_result"
    }
   ],
   "source": [
    "anthropic = Website(\"https://anthropic.com\")\n",
    "# anthropic.links\n",
    "anthropic.get_contents()"
   ]
  },
  {
   "cell_type": "code",
   "execution_count": 36,
   "id": "ba89f58c-3f29-400c-9866-b295d9f4d237",
   "metadata": {
    "scrolled": true
   },
   "outputs": [],
   "source": [
    "# print(get_links_user_prompt(ed))\n",
    "\n",
    "relevantlinks = get_links(\"https://anthropic.com\")"
   ]
  },
  {
   "cell_type": "code",
   "execution_count": 56,
   "id": "804c13e4-23fd-40a5-a38f-1bb2f5fa1c55",
   "metadata": {},
   "outputs": [
    {
     "name": "stdout",
     "output_type": "stream",
     "text": [
      "https://www.anthropic.com/\n",
      "https://www.anthropic.com/team\n",
      "https://www.anthropic.com/careers\n",
      "https://www.anthropic.com/company\n",
      "https://www.anthropic.com/solutions/agents\n",
      "https://www.anthropic.com/solutions/coding\n",
      "https://www.anthropic.com/responsible-scaling-policy\n",
      "https://www.anthropic.com/transparency\n",
      "https://www.anthropic.com/research\n",
      "https://www.anthropic.com/research/tracing-thoughts-language-model\n"
     ]
    }
   ],
   "source": [
    "# relevantlinks\n",
    "for links in relevantlinks[\"links\"]:\n",
    "    print(links[\"url\"])\n",
    "\n",
    "# relevantlinks[\"links\"]\n",
    "# relevantlinks[\"links\"][\"url\"]"
   ]
  },
  {
   "cell_type": "code",
   "execution_count": null,
   "id": "d6e3b369-5612-432a-b8e3-796dad290397",
   "metadata": {},
   "outputs": [],
   "source": [
    "# OLLAMA_API = \"http://localhost:11434/api/chat\"\n",
    "# HEADERS = {\"Content-Type\": \"application/json\"}\n",
    "# MODEL = \"llama3.2\"\n",
    "\n",
    "# # Create a messages list using the same format that we used for OpenAI\n",
    "# messages = [\n",
    "#     {\"role\": \"user\", \"content\": \"Describe some of the business applications of Generative AI\"}\n",
    "# ]\n",
    "\n",
    "# payload = {\n",
    "#         \"model\": MODEL,\n",
    "#         \"messages\": messages,\n",
    "#         \"stream\": False\n",
    "#     }\n",
    "\n",
    "# !ollama pull deepseek-r1:1.5b\n",
    "\n",
    "# from openai import OpenAI\n",
    "# ollama_via_openai = OpenAI(base_url='http://localhost:11434/v1', api_key='ollama')\n",
    "\n",
    "# response = ollama_via_openai.chat.completions.create(\n",
    "#     model=MODEL,\n",
    "#     messages=messages\n",
    "# )\n",
    "\n",
    "# print(response.choices[0].message.content)"
   ]
  },
  {
   "cell_type": "markdown",
   "id": "41b8285f-85b2-4dcc-b145-60a14c8fccef",
   "metadata": {},
   "source": [
    "Part 2 from here onwards"
   ]
  },
  {
   "cell_type": "code",
   "execution_count": 59,
   "id": "77926305-8d7b-4e87-9abc-69d00d768dc4",
   "metadata": {},
   "outputs": [],
   "source": [
    "def get_all_details(url):\n",
    "    result = \"Landing Page:\\n\"\n",
    "    result += Website(url).get_contents()\n",
    "    links = get_links(url)\n",
    "    print(\"Found links:\", links)\n",
    "    for link in links[\"links\"]:\n",
    "        result += f\"\\n\\n{link['type']}\\n\"\n",
    "        result += Website(link[\"url\"]).get_contents()\n",
    "    return result\n",
    "\n"
   ]
  },
  {
   "cell_type": "code",
   "execution_count": null,
   "id": "3a35ce94-bd19-4285-af2a-ca2b89472742",
   "metadata": {},
   "outputs": [],
   "source": [
    "get_all_details(\"https://anthropic.com\")"
   ]
  },
  {
   "cell_type": "code",
   "execution_count": null,
   "id": "c3a453b4-b2d2-49be-9fad-65e7894ddb74",
   "metadata": {},
   "outputs": [],
   "source": []
  }
 ],
 "metadata": {
  "kernelspec": {
   "display_name": "Python 3 (ipykernel)",
   "language": "python",
   "name": "python3"
  },
  "language_info": {
   "codemirror_mode": {
    "name": "ipython",
    "version": 3
   },
   "file_extension": ".py",
   "mimetype": "text/x-python",
   "name": "python",
   "nbconvert_exporter": "python",
   "pygments_lexer": "ipython3",
   "version": "3.11.13"
  }
 },
 "nbformat": 4,
 "nbformat_minor": 5
}
